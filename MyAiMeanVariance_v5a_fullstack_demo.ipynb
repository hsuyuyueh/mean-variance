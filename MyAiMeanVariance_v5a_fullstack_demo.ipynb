{
  "cells": [
    {
      "cell_type": "markdown",
      "metadata": {},
      "source": [
        "# \ud83d\udcd8 MyAiMeanVariance_v5a_fullstack \u7b56\u7565\u8aaa\u660e\n",
        "\n",
        "\u672c Notebook \u793a\u7bc4\u5982\u4f55\u5f9e ETF \u6210\u5206\u80a1\u4e2d\u5efa\u7acb AI \u9810\u6e2c\u5f37\u5316\u7684 Mean-Variance \u6295\u8cc7\u7d44\u5408\u3002\n",
        "\n",
        "## \u7b56\u7565\u6d41\u7a0b\u5716\uff1a\n",
        "```\n",
        "ETF\u6210\u5206\u80a1(0050+0056) \n",
        "    \u2193\n",
        "GPT \u03bc \u9810\u6e2c (\u57fa\u672c\u9762 + \u65b0\u805e)\n",
        "    \u2193\n",
        "\u52d5\u80fd\u4fee\u6b63\uff08\u8fd1 60 \u65e5\u8da8\u52e2\uff09\n",
        "    \u2193\n",
        "\u4fe1\u5fc3\u61f2\u7f70\uff08\u6ce2\u52d5\u8d8a\u5927 \u03bc \u6253\u6298\uff09\n",
        "    \u2193\n",
        "Mean-Variance \u6700\u4f73\u5316 + L2 \u6b63\u5247\u5316\n",
        "    \u2193\n",
        "\u52d5\u614b\u98a8\u63a7\uff08VIX + JNK + Drawdown\uff09\n",
        "    \u2193\n",
        "\u8f38\u51fa\u6301\u80a1\u6b0a\u91cd + Top5 \u8aaa\u660e\n",
        "```"
      ]
    },
    {
      "cell_type": "code",
      "execution_count": null,
      "metadata": {},
      "outputs": [],
      "source": [
        "# \u2705 \u532f\u5165\u4e3b\u8981\u6a21\u7d44\u8207\u8cc7\u6599\n",
        "from MyAiMeanVariance_v5a_fullstack import (\n",
        "    fetch_0050_components, fetch_0056_components,\n",
        "    gpt_contextual_rating,\n",
        "    apply_momentum_adjustment, apply_mu_confidence_adjustment,\n",
        "    optimize_portfolio, apply_risk_controls,\n",
        "    load_prices, sample_cov\n",
        ")\n",
        "import yfinance as yf\n",
        "import pandas as pd\n",
        "from datetime import datetime, timedelta"
      ]
    },
    {
      "cell_type": "code",
      "execution_count": null,
      "metadata": {},
      "outputs": [],
      "source": [
        "# \u2593 STEP 1\uff1a\u53d6\u5f97\u500b\u80a1\u540d\u55ae\uff080050 + 0056\uff09\u4e26\u6392\u9664\u7d14\u91d1\u878d\u80a1\n",
        "c0050 = fetch_0050_components()\n",
        "c0056 = fetch_0056_components()\n",
        "tickers = sorted(set([code for code, _ in c0050 + c0056 if not code.startswith(\"289\")]))\n",
        "tickers[:10]  # \u986f\u793a\u524d 10 \u6a94\u80a1\u7968\u4ee3\u865f"
      ]
    },
    {
      "cell_type": "code",
      "execution_count": null,
      "metadata": {},
      "outputs": [],
      "source": [
        "# \u2593 STEP 2\uff1a\u4e0b\u8f09\u50f9\u683c\u8cc7\u6599\u8207\u6b77\u53f2\u5171\u8b8a\u7570\u6578\n",
        "end_date = datetime.today()\n",
        "start_date = end_date - timedelta(days=365)\n",
        "\n",
        "prices = load_prices(tickers, start_date.strftime('%Y-%m-%d'), end_date.strftime('%Y-%m-%d'))\n",
        "cov_matrix = sample_cov(prices)\n",
        "prices.tail(3)"
      ]
    },
    {
      "cell_type": "code",
      "execution_count": null,
      "metadata": {},
      "outputs": [],
      "source": [
        "# \u2593 STEP 3\uff1aAI \u03bc \u9810\u6e2c \u2192 \u52d5\u80fd\u4fee\u6b63 \u2192 \u4fe1\u5fc3\u8abf\u6574\n",
        "mu_base = gpt_contextual_rating(tickers, horizon_months=3)\n",
        "mu_momentum = apply_momentum_adjustment(mu_base, prices)\n",
        "mu_final = apply_mu_confidence_adjustment(mu_momentum, prices)\n",
        "mu_final.sort_values(ascending=False).head(10)"
      ]
    },
    {
      "cell_type": "code",
      "execution_count": null,
      "metadata": {},
      "outputs": [],
      "source": [
        "# \u2593 STEP 4\uff1a\u6700\u4f73\u5316\u6295\u8cc7\u7d44\u5408\uff08L2 + Max Sharpe\uff09\n",
        "from pypfopt.risk_models import sample_cov\n",
        "\n",
        "weights_raw, (exp_ret, vol, sharpe) = optimize_portfolio(\n",
        "    mu_final, cov_matrix, risk_free_rate=0.015, regularize=True, gamma=0.1\n",
        ")\n",
        "pd.Series(weights_raw).sort_values(ascending=False).head(10)"
      ]
    },
    {
      "cell_type": "code",
      "execution_count": null,
      "metadata": {},
      "outputs": [],
      "source": [
        "# \u2593 STEP 5\uff1a\u61c9\u7528\u98a8\u63a7\uff08\u98a8\u96aa\u8a0a\u865f + \u6b0a\u91cd\u4e0a\u9650\uff09\n",
        "weights_final = apply_risk_controls(weights_raw, {}, prices)\n",
        "pd.Series(weights_final).sort_values(ascending=False).head(10)"
      ]
    },
    {
      "cell_type": "markdown",
      "metadata": {},
      "source": [
        "## \ud83d\udd0d Top \u6301\u80a1\u8aaa\u660e\uff08\u03bc + \u7522\u696d\uff09"
      ]
    },
    {
      "cell_type": "code",
      "execution_count": null,
      "metadata": {},
      "outputs": [],
      "source": [
        "for tk, w in sorted(weights_final.items(), key=lambda x: -x[1])[:5]:\n",
        "    try:\n",
        "        info = yf.Ticker(tk).info\n",
        "        print(f\"{tk}: {w:.2%} | \u03bc={mu_final[tk]:.2%} | Sector={info.get('sector', 'N/A')}\")\n",
        "    except Exception as e:\n",
        "        print(f\"{tk}: {w:.2%} | \u03bc={mu_final[tk]:.2%} | \u26a0\ufe0f Sector info unavailable\")"
      ]
    }
  ],
  "metadata": {
    "kernelspec": {
      "display_name": "Python 3",
      "language": "python",
      "name": "python3"
    },
    "language_info": {
      "name": "python",
      "version": "3.10"
    }
  },
  "nbformat": 4,
  "nbformat_minor": 5
}